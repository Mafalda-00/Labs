{
 "cells": [
  {
   "cell_type": "code",
   "execution_count": 2,
   "metadata": {},
   "outputs": [
    {
     "name": "stdout",
     "output_type": "stream",
     "text": [
      "['potatoes', 'carrots', 'cod', 'sprouts']\n"
     ]
    }
   ],
   "source": [
    "# Construct a list (shoppingList) including 'potatoes', 'carrots', 'cod' and 'sprouts'\n",
    "\n",
    "shoppingList = ['potatoes', 'carrots', 'cod', 'sprouts']\n",
    "print(shoppingList)"
   ]
  },
  {
   "cell_type": "code",
   "execution_count": 3,
   "metadata": {},
   "outputs": [
    {
     "data": {
      "text/plain": [
       "'carrots sprouts'"
      ]
     },
     "execution_count": 3,
     "metadata": {},
     "output_type": "execute_result"
    }
   ],
   "source": [
    "# Get the second and the last element of the list\n",
    "\n",
    "shoppingList[1] + ' ' + shoppingList[-1]"
   ]
  },
  {
   "cell_type": "code",
   "execution_count": 4,
   "metadata": {},
   "outputs": [
    {
     "name": "stdout",
     "output_type": "stream",
     "text": [
      "potatoes\n",
      "carrots\n",
      "cod\n",
      "sprouts\n"
     ]
    }
   ],
   "source": [
    "#  Iterate though the list\n",
    "\n",
    "for purchase in shoppingList:\n",
    "    print(purchase)"
   ]
  },
  {
   "cell_type": "code",
   "execution_count": 5,
   "metadata": {},
   "outputs": [
    {
     "name": "stdout",
     "output_type": "stream",
     "text": [
      "[]\n"
     ]
    }
   ],
   "source": [
    "# Create a new list (studentList)\n",
    "\n",
    "studentList = []\n",
    "print(studentList)"
   ]
  },
  {
   "cell_type": "code",
   "execution_count": 6,
   "metadata": {},
   "outputs": [
    {
     "name": "stdout",
     "output_type": "stream",
     "text": [
      "['potatoes', 'carrots', 'cod', 'sprouts', 'orange', 'lime']\n"
     ]
    }
   ],
   "source": [
    "# Add the follwoing elements to the shoppingList: orange and lime\n",
    "\n",
    "shoppingList.append('orange')\n",
    "shoppingList.append('lime')\n",
    "print(shoppingList)"
   ]
  },
  {
   "cell_type": "code",
   "execution_count": 7,
   "metadata": {},
   "outputs": [
    {
     "name": "stdout",
     "output_type": "stream",
     "text": [
      "['cod', 'sprouts', 'orange']\n"
     ]
    }
   ],
   "source": [
    "# Remove the carrots, the first element and last element of the shoppingList list\n",
    "\n",
    "shoppingList.remove('carrots')\n",
    "del shoppingList[0]\n",
    "del shoppingList[-1]\n",
    "print(shoppingList)"
   ]
  },
  {
   "cell_type": "code",
   "execution_count": 8,
   "metadata": {},
   "outputs": [
    {
     "ename": "NameError",
     "evalue": "name 'studentsList' is not defined",
     "output_type": "error",
     "traceback": [
      "\u001b[1;31m---------------------------------------------------------------------------\u001b[0m",
      "\u001b[1;31mNameError\u001b[0m                                 Traceback (most recent call last)",
      "\u001b[1;32m<ipython-input-8-743d1858c460>\u001b[0m in \u001b[0;36m<module>\u001b[1;34m\u001b[0m\n\u001b[0;32m      1\u001b[0m \u001b[1;31m# Delete the studentList list\u001b[0m\u001b[1;33m\u001b[0m\u001b[1;33m\u001b[0m\u001b[1;33m\u001b[0m\u001b[0m\n\u001b[0;32m      2\u001b[0m \u001b[1;33m\u001b[0m\u001b[0m\n\u001b[1;32m----> 3\u001b[1;33m \u001b[1;32mdel\u001b[0m \u001b[0mstudentsList\u001b[0m\u001b[1;33m\u001b[0m\u001b[1;33m\u001b[0m\u001b[0m\n\u001b[0m\u001b[0;32m      4\u001b[0m \u001b[0mprint\u001b[0m\u001b[1;33m(\u001b[0m\u001b[0mstudentList\u001b[0m\u001b[1;33m)\u001b[0m\u001b[1;33m\u001b[0m\u001b[1;33m\u001b[0m\u001b[0m\n",
      "\u001b[1;31mNameError\u001b[0m: name 'studentsList' is not defined"
     ]
    }
   ],
   "source": [
    "# Delete the studentList list\n",
    "\n",
    "del studentsList\n",
    "print(studentList)"
   ]
  },
  {
   "cell_type": "code",
   "execution_count": 9,
   "metadata": {},
   "outputs": [
    {
     "name": "stdout",
     "output_type": "stream",
     "text": [
      "[2, 4, 6, 8, 10, 12, 14, 16, 18, 20, 22, 24, 26, 28]\n"
     ]
    }
   ],
   "source": [
    "# Create a list with the double values of number between 1 and 15\n",
    "\n",
    "doubles = [2*x for x in range(1,15)]\n",
    "print(doubles)"
   ]
  },
  {
   "cell_type": "code",
   "execution_count": 10,
   "metadata": {},
   "outputs": [
    {
     "name": "stdout",
     "output_type": "stream",
     "text": [
      "['cod', 'sprouts', 'orange']\n"
     ]
    }
   ],
   "source": [
    "# Obtain the first 3 elements of the list\n",
    "\n",
    "firstThree = shoppingList [: 3]\n",
    "print(firstThree)"
   ]
  },
  {
   "cell_type": "code",
   "execution_count": 11,
   "metadata": {},
   "outputs": [
    {
     "name": "stdout",
     "output_type": "stream",
     "text": [
      "['cod', 'sprouts', 'orange']\n"
     ]
    }
   ],
   "source": [
    "#  What is the result of, Why?\n",
    "\n",
    "shopping = shoppingList\n",
    "shoppingListCopy = shoppingList[:]\n",
    "print(shopping)"
   ]
  },
  {
   "cell_type": "code",
   "execution_count": 12,
   "metadata": {},
   "outputs": [
    {
     "name": "stdout",
     "output_type": "stream",
     "text": [
      "['cod', 'sprouts', 'orange', 'orange']\n"
     ]
    }
   ],
   "source": [
    "# What is the result of, Why?\n",
    "\n",
    "shopping = shoppingList\n",
    "shoppingList.append(\"orange\")\n",
    "print(shopping)"
   ]
  },
  {
   "cell_type": "code",
   "execution_count": 14,
   "metadata": {},
   "outputs": [
    {
     "name": "stdout",
     "output_type": "stream",
     "text": [
      "<built-in method clear of list object at 0x0000027561D78548>\n"
     ]
    }
   ],
   "source": [
    "# Remove all the items from the shoppingList\n",
    "\n",
    "shoppingList = shoppingList.clear\n",
    "print(shoppingList)"
   ]
  },
  {
   "cell_type": "code",
   "execution_count": 16,
   "metadata": {},
   "outputs": [
    {
     "name": "stdout",
     "output_type": "stream",
     "text": [
      "beans\n"
     ]
    },
    {
     "ename": "TypeError",
     "evalue": "'tuple' object does not support item assignment",
     "output_type": "error",
     "traceback": [
      "\u001b[1;31m---------------------------------------------------------------------------\u001b[0m",
      "\u001b[1;31mTypeError\u001b[0m                                 Traceback (most recent call last)",
      "\u001b[1;32m<ipython-input-16-56412393a39c>\u001b[0m in \u001b[0;36m<module>\u001b[1;34m\u001b[0m\n\u001b[0;32m      4\u001b[0m \u001b[0mnewPurchases\u001b[0m\u001b[1;33m=\u001b[0m \u001b[1;33m(\u001b[0m\u001b[1;34m\"bananas\"\u001b[0m\u001b[1;33m,\u001b[0m \u001b[1;34m\"beans\"\u001b[0m\u001b[1;33m,\u001b[0m \u001b[1;34m\"rice\"\u001b[0m\u001b[1;33m)\u001b[0m\u001b[1;33m\u001b[0m\u001b[1;33m\u001b[0m\u001b[0m\n\u001b[0;32m      5\u001b[0m \u001b[0mprint\u001b[0m \u001b[1;33m(\u001b[0m\u001b[0mnewPurchases\u001b[0m \u001b[1;33m[\u001b[0m\u001b[1;36m1\u001b[0m\u001b[1;33m]\u001b[0m\u001b[1;33m)\u001b[0m\u001b[1;33m\u001b[0m\u001b[1;33m\u001b[0m\u001b[0m\n\u001b[1;32m----> 6\u001b[1;33m \u001b[0mnewPurchases\u001b[0m \u001b[1;33m[\u001b[0m\u001b[1;36m0\u001b[0m\u001b[1;33m]\u001b[0m \u001b[1;33m=\u001b[0m \u001b[1;34m\"apple\"\u001b[0m\u001b[1;33m\u001b[0m\u001b[1;33m\u001b[0m\u001b[0m\n\u001b[0m",
      "\u001b[1;31mTypeError\u001b[0m: 'tuple' object does not support item assignment"
     ]
    }
   ],
   "source": [
    "# What is the result of, Why?\n",
    "# The result is that \"beans\" is printed. But also an error occurs, because in the newPurchases, there is not the element of \"apple\"\n",
    "\n",
    "newPurchases= (\"bananas\", \"beans\", \"rice\")\n",
    "print (newPurchases [1])\n",
    "newPurchases [0] = \"apple\""
   ]
  },
  {
   "cell_type": "code",
   "execution_count": 20,
   "metadata": {},
   "outputs": [
    {
     "name": "stdout",
     "output_type": "stream",
     "text": [
      "The fruit 1 is orange\n",
      "The fruit 2 is apple\n",
      "The fruit 3 is pear\n",
      "The fruit 4 is grape\n",
      "The fruit 5 is peach\n"
     ]
    }
   ],
   "source": [
    "# Create a dictionary including the follwoing elements: orange, apple, pear, grape and peach. Key are 1 to 5.\n",
    "# Iterate through key-value pair.\n",
    "\n",
    "fruit = {1: 'orange', 2: 'apple', 3: 'pear', 4: 'grape', 5: 'peach'}\n",
    "\n",
    "for key , value in fruit.items():\n",
    "    print('The fruit' + ' ' + str(key) + ' ' + 'is' + ' ' + value)"
   ]
  },
  {
   "cell_type": "code",
   "execution_count": 36,
   "metadata": {},
   "outputs": [
    {
     "name": "stdout",
     "output_type": "stream",
     "text": [
      "Days of the week: ['monday', 'tuesday', 'wednesday', 'thursday', 'friday', 'saturday', 'sunday']\n",
      "\n",
      "Mondays: ['07', '14', '21', '28']\n",
      "Tuesdays: ['08', '15', '22', '29']\n",
      "Wednesdays: ['09', '16', '23', '30']\n",
      "Thursdays: ['10', '17', '24', '31']\n",
      "Fridays: ['04', '11', '18', '25']\n",
      "Saturdays: ['05', '12', '19', '26']\n",
      "Sundays: ['06', '13', '20', '27']\n"
     ]
    }
   ],
   "source": [
    "# Create a weekList that is composed of several lists, each one corresponding to a day.\n",
    "# October, 2019\n",
    "\n",
    "weekList = ['monday', 'tuesday', 'wednesday', 'thursday', 'friday', 'saturday', 'sunday']\n",
    "week = weekList\n",
    "mondayList = ['07', '14', '21', '28']\n",
    "monday = mondayList\n",
    "tuesdayList = ['08', '15', '22', '29']\n",
    "tuesday = tuesdayList\n",
    "wednesdayList = ['09', '16', '23', '30']\n",
    "wednesday = wednesdayList\n",
    "thursdayList = ['10', '17', '24', '31']\n",
    "thursday = thursdayList\n",
    "fridayList = ['04', '11', '18', '25']\n",
    "friday = fridayList\n",
    "saturdayList = ['05', '12', '19', '26']\n",
    "saturday = saturdayList\n",
    "sundayList = ['06', '13', '20', '27']\n",
    "sunday = sundayList\n",
    "\n",
    "print('Days of the week: ' + str(week))\n",
    "print('')\n",
    "print('Mondays:' + ' ' + str(monday))\n",
    "print('Tuesdays:' + ' ' + str(tuesday))\n",
    "print('Wednesdays:' + ' ' + str(wednesday))\n",
    "print('Thursdays:' + ' ' + str(thursday))\n",
    "print('Fridays:' + ' ' + str(friday))\n",
    "print('Saturdays:' + ' ' + str(saturday))\n",
    "print('Sundays:' + ' ' + str(sunday))"
   ]
  },
  {
   "cell_type": "code",
   "execution_count": null,
   "metadata": {},
   "outputs": [],
   "source": []
  }
 ],
 "metadata": {
  "kernelspec": {
   "display_name": "Python 3",
   "language": "python",
   "name": "python3"
  },
  "language_info": {
   "codemirror_mode": {
    "name": "ipython",
    "version": 3
   },
   "file_extension": ".py",
   "mimetype": "text/x-python",
   "name": "python",
   "nbconvert_exporter": "python",
   "pygments_lexer": "ipython3",
   "version": "3.7.3"
  }
 },
 "nbformat": 4,
 "nbformat_minor": 2
}
