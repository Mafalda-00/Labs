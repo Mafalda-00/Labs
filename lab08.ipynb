{
 "cells": [
  {
   "cell_type": "markdown",
   "metadata": {},
   "source": [
    "# Lab 8 \n",
    "\n",
    "A simple chatbot\n",
    "\n",
    "**1.** Create a function that asks the user his name and says Hello, John Doe\n",
    "\n",
    "**2.** Create a function called chat that ask the user what is his problem and will answer \"yes of course\"\n",
    "\n",
    "**3.** Create a function called chat that ask the user what is his problem and will answer randomly among 6 possible answers\n",
    "\n",
    "**4.** Put all together and improve\n"
   ]
  },
  {
   "cell_type": "markdown",
   "metadata": {},
   "source": [
    "**1.** Create a function that ask the user his name and says Hello, John Doe"
   ]
  },
  {
   "cell_type": "code",
   "execution_count": 3,
   "metadata": {},
   "outputs": [
    {
     "name": "stdout",
     "output_type": "stream",
     "text": [
      "Computer: Hi! What is your name?\n",
      "User: \n",
      "Computer: Hi! What is your name?\n",
      "User: \n",
      "Computer: Hi! What is your name?\n",
      "User: Mafalda Coelho\n",
      "Computer: Hello, Mafalda Coelho!\n"
     ]
    }
   ],
   "source": [
    "# Create a function that ask the user his name and says Hello, John Doe\n",
    "\n",
    "def ask():\n",
    "    msg = \"\"\n",
    "    msg1 = \"\"\n",
    "    while msg == \"\":\n",
    "        msg1 = \"Computer: Hi! What is your name?\"\n",
    "        print(msg1)\n",
    "        msg = input(\"User: \")\n",
    "    answer = \"Computer: Hello, \" + msg + \"!\"\n",
    "    print(answer)\n",
    "\n",
    "ask()"
   ]
  },
  {
   "cell_type": "markdown",
   "metadata": {},
   "source": [
    "**2.** Create a function called chat that ask the user what is his problem and will answer \"yes of course\""
   ]
  },
  {
   "cell_type": "code",
   "execution_count": 4,
   "metadata": {},
   "outputs": [
    {
     "name": "stdout",
     "output_type": "stream",
     "text": [
      "Computer: What is your problem?\n",
      "User: \n",
      "Computer: What is your problem?\n",
      "User: Laboratories\n",
      "Computer: Yes, of course.\n"
     ]
    }
   ],
   "source": [
    "# Create a function called chat that ask the user what is his problem and will answer \"yes of course\"\n",
    "def chat():\n",
    "    msg = \"\"\n",
    "    msg1 = \"\"\n",
    "    while msg == \"\":\n",
    "        msg1 = \"Computer: What is your problem?\"\n",
    "        print(msg1)\n",
    "        msg = input(\"User: \")\n",
    "    answer = \"Computer: Yes, of course.\"\n",
    "    print(answer)\n",
    "\n",
    "chat()"
   ]
  },
  {
   "cell_type": "markdown",
   "metadata": {},
   "source": [
    "**3.** Create a function called chat that ask the user what is his problem and will answer randomly among 6 possible answers"
   ]
  },
  {
   "cell_type": "code",
   "execution_count": 6,
   "metadata": {},
   "outputs": [
    {
     "name": "stdout",
     "output_type": "stream",
     "text": [
      "Computer: What is your problem?\n",
      "User: \n",
      "Computer: What is your problem?\n",
      "User: This lab\n",
      "Computer: Now that you know the problem, try to solve it.\n"
     ]
    }
   ],
   "source": [
    "# Create a function called chat that ask the user what is his problem and will answer randomly among 6 possible answers\n",
    "# When it runs, it always prints the last item of the list, but it is suppose to print randomly the items of the list\n",
    "import random\n",
    "def chat():\n",
    "    msg = \"\"\n",
    "    msg1 = \"\"\n",
    "    while msg == \"\":\n",
    "        msg1 = \"Computer: What is your problem?\"\n",
    "        print(msg1)\n",
    "        msg = input(\"User: \")\n",
    "    x = [\"Oh no!\", \"Yes, of course.\", \"Ok.\", \"Now that you know the problem, try to solve it.\", \"Yes, that's a challenge.\", \"Good luck with that!\"]\n",
    "    answer = \"Computer: \" + random.choice(x)\n",
    "    print(answer)\n",
    "\n",
    "chat()"
   ]
  },
  {
   "cell_type": "markdown",
   "metadata": {},
   "source": [
    "**4.** Put all together and improve"
   ]
  },
  {
   "cell_type": "code",
   "execution_count": 8,
   "metadata": {},
   "outputs": [
    {
     "name": "stdout",
     "output_type": "stream",
     "text": [
      "Computer: Hi! What is your name?\n",
      "User: \n",
      "Computer: Hi! What is your name?\n",
      "User: Mafalda Coelho\n",
      "Computer: Hello, Mafalda Coelho!\n",
      "Computer: What is your problem?\n",
      "User: \n",
      "Computer: What is your problem?\n",
      "User: \n",
      "Computer: What is your problem?\n",
      "User: I don't know how to improve this\n",
      "Computer: Good luck with that!\n"
     ]
    }
   ],
   "source": [
    "import random\n",
    "\n",
    "def ask():\n",
    "    msg = \"\"\n",
    "    msg1 = \"\"\n",
    "    while msg == \"\":\n",
    "        msg1 = \"Computer: Hi! What is your name?\"\n",
    "        print(msg1)\n",
    "        msg = input(\"User: \")\n",
    "    answer = \"Computer: Hello, \" + msg + \"!\"\n",
    "    print(answer)\n",
    "\n",
    "def chat():\n",
    "    msg2 = \"\"\n",
    "    msg3 = \"\"\n",
    "    while msg2 == \"\":\n",
    "        msg3 = \"Computer: What is your problem?\"\n",
    "        print(msg3)\n",
    "        msg2 = input(\"User: \")\n",
    "    x = [\"Oh no!\", \"Yes, of course.\", \"Ok.\", \"Now that you know the problem, try to solve it.\", \"Yes, that's a challenge.\", \"Good luck with that!\"]\n",
    "    answer = \"Computer: \" + random.choice(x)\n",
    "    print(answer)\n",
    "\n",
    "ask()\n",
    "chat()\n"
   ]
  },
  {
   "cell_type": "code",
   "execution_count": null,
   "metadata": {},
   "outputs": [],
   "source": []
  }
 ],
 "metadata": {
  "kernelspec": {
   "display_name": "Python 3",
   "language": "python",
   "name": "python3"
  },
  "language_info": {
   "codemirror_mode": {
    "name": "ipython",
    "version": 3
   },
   "file_extension": ".py",
   "mimetype": "text/x-python",
   "name": "python",
   "nbconvert_exporter": "python",
   "pygments_lexer": "ipython3",
   "version": "3.7.3"
  }
 },
 "nbformat": 4,
 "nbformat_minor": 2
}
